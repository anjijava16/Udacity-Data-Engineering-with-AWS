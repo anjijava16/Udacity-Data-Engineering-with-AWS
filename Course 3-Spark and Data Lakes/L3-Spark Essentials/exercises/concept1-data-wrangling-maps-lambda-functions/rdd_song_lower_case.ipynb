{
 "cells": [
  {
   "cell_type": "code",
   "execution_count": 2,
   "metadata": {},
   "outputs": [],
   "source": [
    "import pyspark"
   ]
  },
  {
   "cell_type": "code",
   "execution_count": 3,
   "metadata": {},
   "outputs": [],
   "source": [
    "from pyspark.sql import SparkSession"
   ]
  },
  {
   "cell_type": "code",
   "execution_count": 4,
   "metadata": {},
   "outputs": [
    {
     "name": "stderr",
     "output_type": "stream",
     "text": [
      "23/06/08 12:35:32 WARN Utils: Your hostname, Phoebes-MacBook-Pro.local resolves to a loopback address: 127.0.0.1; using 192.168.2.31 instead (on interface en0)\n",
      "23/06/08 12:35:32 WARN Utils: Set SPARK_LOCAL_IP if you need to bind to another address\n",
      "Setting default log level to \"WARN\".\n",
      "To adjust logging level use sc.setLogLevel(newLevel). For SparkR, use setLogLevel(newLevel).\n",
      "23/06/08 12:35:33 WARN NativeCodeLoader: Unable to load native-hadoop library for your platform... using builtin-java classes where applicable\n"
     ]
    }
   ],
   "source": [
    "spark = SparkSession \\\n",
    "    .builder \\\n",
    "    .appName(\"Maps and Lazy Evaluation Example\") \\\n",
    "    .getOrCreate()"
   ]
  },
  {
   "cell_type": "code",
   "execution_count": 5,
   "metadata": {},
   "outputs": [],
   "source": [
    "log_of_songs = [\n",
    "        \"Despacito\",\n",
    "        \"Nice for what\",\n",
    "        \"No tears left to cry\",\n",
    "        \"Despacito\",\n",
    "        \"Havana\",\n",
    "        \"In my feelings\",\n",
    "        \"Nice for what\",\n",
    "        \"despacito\",\n",
    "        \"All the stars\"\n",
    "]"
   ]
  },
  {
   "cell_type": "code",
   "execution_count": 6,
   "metadata": {},
   "outputs": [],
   "source": [
    "distributed_song_log_rdd = spark.sparkContext.parallelize(log_of_songs)"
   ]
  },
  {
   "cell_type": "code",
   "execution_count": 7,
   "metadata": {},
   "outputs": [
    {
     "name": "stderr",
     "output_type": "stream",
     "text": [
      "No tears left to cry                                                (0 + 8) / 8]\n",
      "Havana\n",
      "Nice for what\n",
      "Despacito\n",
      "Despacito\n",
      "In my feelings\n",
      "Nice for what\n",
      "despacito\n",
      "All the stars\n",
      "                                                                                \r"
     ]
    }
   ],
   "source": [
    "distributed_song_log_rdd.foreach(print)"
   ]
  },
  {
   "cell_type": "code",
   "execution_count": 8,
   "metadata": {},
   "outputs": [],
   "source": [
    "def convert_song_to_lowercase(song):\n",
    "    return song.lower()"
   ]
  },
  {
   "cell_type": "code",
   "execution_count": 9,
   "metadata": {},
   "outputs": [
    {
     "name": "stdout",
     "output_type": "stream",
     "text": [
      "havana\n"
     ]
    }
   ],
   "source": [
    "print(convert_song_to_lowercase(\"Havana\"))"
   ]
  },
  {
   "cell_type": "code",
   "execution_count": 10,
   "metadata": {},
   "outputs": [
    {
     "name": "stderr",
     "output_type": "stream",
     "text": [
      "no tears left to cry\n",
      "in my feelings\n",
      "despacito\n",
      "despacito\n",
      "nice for what\n",
      "nice for what\n",
      "havana\n",
      "despacito\n",
      "all the stars\n"
     ]
    }
   ],
   "source": [
    "lower_case_songs=distributed_song_log_rdd.map(convert_song_to_lowercase)\n",
    "lower_case_songs.foreach(print)"
   ]
  },
  {
   "cell_type": "code",
   "execution_count": 11,
   "metadata": {},
   "outputs": [
    {
     "name": "stderr",
     "output_type": "stream",
     "text": [
      "No tears left to cry\n",
      "In my feelings\n",
      "despacito\n",
      "All the stars\n",
      "Despacito\n",
      "Nice for what\n",
      "Havana\n",
      "Despacito\n",
      "Nice for what\n"
     ]
    }
   ],
   "source": [
    "distributed_song_log_rdd.foreach(print)"
   ]
  },
  {
   "cell_type": "code",
   "execution_count": 12,
   "metadata": {},
   "outputs": [
    {
     "name": "stderr",
     "output_type": "stream",
     "text": [
      "nice for what\n",
      "havana\n",
      "nice for what\n",
      "despacito\n",
      "despacito\n",
      "all the stars\n",
      "despacito\n",
      "no tears left to cry\n",
      "in my feelings\n"
     ]
    }
   ],
   "source": [
    "distributed_song_log_rdd.map(lambda song: song.lower()).foreach(print)"
   ]
  },
  {
   "cell_type": "code",
   "execution_count": 13,
   "metadata": {},
   "outputs": [
    {
     "name": "stderr",
     "output_type": "stream",
     "text": [
      "havana\n",
      "despacito\n",
      "despacito\n",
      "all the stars\n",
      "nice for what\n",
      "despacito\n",
      "nice for what\n",
      "in my feelings\n",
      "no tears left to cry\n"
     ]
    }
   ],
   "source": [
    "distributed_song_log_rdd.map(lambda x: x.lower()).foreach(print)"
   ]
  }
 ],
 "metadata": {
  "kernelspec": {
   "display_name": "spark-test",
   "language": "python",
   "name": "spark-test"
  },
  "language_info": {
   "codemirror_mode": {
    "name": "ipython",
    "version": 3
   },
   "file_extension": ".py",
   "mimetype": "text/x-python",
   "name": "python",
   "nbconvert_exporter": "python",
   "pygments_lexer": "ipython3",
   "version": "3.10.11"
  },
  "orig_nbformat": 4
 },
 "nbformat": 4,
 "nbformat_minor": 2
}
